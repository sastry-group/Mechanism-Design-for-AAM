{
 "cells": [
  {
   "cell_type": "code",
   "execution_count": null,
   "metadata": {},
   "outputs": [],
   "source": [
    "import pickle as pkl\n",
    "import pandas as pd"
   ]
  },
  {
   "cell_type": "code",
   "execution_count": null,
   "metadata": {},
   "outputs": [],
   "source": [
    "# Pull budget ascending auction data from each file and store in a dictionary\n",
    "def pull_baa_data(file):\n",
    "    return pd.read_csv(file)\n",
    "pathname = \"results/toulouse_case_cap8_updated_20_ascending-auction-budgetbased_b-50.0_agentsall_dval40.0_outval1.0_pout1.0_freq500.0_pbound3000.0_receding_20250223_154045/results\"\n",
    "auction_ends = [20, 40, 60, 80, 100, 120, 140, 160, 180, 200, 220, 240, 260, 280, 300]\n",
    "# auction_ends = [40]\n",
    "files = [f\"{pathname}/output_{end}.csv\" for end in auction_ends]\n",
    "baa_data = {end: pull_baa_data(file) for end, file in zip(auction_ends, files)}"
   ]
  },
  {
   "cell_type": "code",
   "execution_count": null,
   "metadata": {},
   "outputs": [],
   "source": [
    "# Find average delay, number of rebases, average number of times rebased, etc.\n",
    "def find_stats(df, rebased_agents=None):\n",
    "    delays = [value for value in df['Delay'].tolist() if value >= 0]\n",
    "    num_rebased_agents = len(df[df['Delay'] == -1]) + len(df[df['Delay'] == -2])\n",
    "    # num_rebased_agents = 0\n",
    "    # for agent in data:\n",
    "    #     if agent[\"delay\"] >= 0:\n",
    "    #         delays.append(agent[\"delay\"])\n",
    "    #     elif agent[\"delay\"] == -1 or agent[\"delay\"] == -2:\n",
    "    #         num_rebased_agents += 1\n",
    "    return {\n",
    "        \"num_agents\": df.shape[0],\n",
    "        \"delays\": delays,\n",
    "        \"average_delay_of_allocated\": sum(delays) / len(delays),\n",
    "        \"average_delay_of_delayed\": sum(delays) / max(len([delay for delay in delays if delay > 0]), 1),\n",
    "        \"num_rebased_agents\": num_rebased_agents\n",
    "        }\n",
    "\n",
    "stats = {end: find_stats(data) for end, data in baa_data.items()}\n",
    "for stat in stats.values():\n",
    "    print(stat)\n",
    "\n",
    "total_rebased = sum([stat['num_rebased_agents'] for stat in stats.values()])\n",
    "total_num_agents = sum([stat['num_agents'] for stat in stats.values()])\n",
    "print(f\"Total rebased: {total_rebased}\")\n",
    "print(f\"Percent rebased: {total_rebased / total_num_agents * 100}%\")"
   ]
  },
  {
   "cell_type": "code",
   "execution_count": null,
   "metadata": {},
   "outputs": [],
   "source": []
  }
 ],
 "metadata": {
  "kernelspec": {
   "display_name": "venv",
   "language": "python",
   "name": "python3"
  },
  "language_info": {
   "codemirror_mode": {
    "name": "ipython",
    "version": 3
   },
   "file_extension": ".py",
   "mimetype": "text/x-python",
   "name": "python",
   "nbconvert_exporter": "python",
   "pygments_lexer": "ipython3",
   "version": "3.10.13"
  }
 },
 "nbformat": 4,
 "nbformat_minor": 2
}
